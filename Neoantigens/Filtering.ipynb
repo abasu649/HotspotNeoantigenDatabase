{
 "metadata": {
  "language_info": {
   "codemirror_mode": {
    "name": "ipython",
    "version": 3
   },
   "file_extension": ".py",
   "mimetype": "text/x-python",
   "name": "python",
   "nbconvert_exporter": "python",
   "pygments_lexer": "ipython3",
   "version": "3.7.6-final"
  },
  "orig_nbformat": 2,
  "kernelspec": {
   "name": "python3",
   "display_name": "Python 3.7.6 64-bit (conda)",
   "metadata": {
    "interpreter": {
     "hash": "a136b97c7e85ead96c8e5c323f58fb70d0188d1879741dad8a1dcd93aafd94f0"
    }
   }
  }
 },
 "nbformat": 4,
 "nbformat_minor": 2,
 "cells": [
  {
   "cell_type": "code",
   "execution_count": 6,
   "metadata": {},
   "outputs": [
    {
     "output_type": "stream",
     "name": "stdout",
     "text": [
      "goodbye/cool/hello\n"
     ]
    }
   ],
   "source": [
    "import os\n",
    "\n",
    "working_dir=\"goodbye/cool\"\n",
    "output_filename=\"hello\"\n",
    "output_file=f'{working_dir}/{output_filename}'\n",
    "print(output_file)"
   ]
  },
  {
   "cell_type": "code",
   "execution_count": null,
   "metadata": {},
   "outputs": [],
   "source": [
    "\n",
    "\n",
    "#/Users/anamikabasu/Code/Heat_Map/10-1/500_or_less_chr14-g.104773002A-C_TUMOR.all_epitopes.tsv\n",
    "#/Users/anamikabasu/Code/Heat_Map/10-1/500_or_less_chr14-g.104773001_104773002delTAinsAT_TUMOR.all_epitopes.tsv\n",
    "\n",
    "df3 = pd.read_csv('/Users/anamikabasu/Code/Heat_Map/10-1/500_or_less_chr2-g.61492337C-T_TUMOR.all_epitopes.tsv',header = None, sep='\\t')\n",
    "df3 = df3.drop_duplicates()\n",
    "print(len(df3))\n",
    "row_remove = []\n",
    "for row in range(0,len(df3.index)):\n",
    "    hla = df3.iloc[row,0] \n",
    "    seq_length = df3.iloc[row,1]  \n",
    "    mutation_position = df3.iloc[row,2]\n",
    "    wt_score = df3.iloc[row,4]\n",
    "    fold_change = df3.iloc[row,5]\n",
    "    # class I - first and last 3 sequence positions are considered anchor positions\n",
    "    anchor_positions = list(range(1,seq_length+1))[0:3] + list(range(1,seq_length+1))[(seq_length-3):seq_length]\n",
    "    if 'HLA-A' in hla or 'HLA-B' in hla or 'HLA-C' in hla:\n",
    "        # mt does not bind better than wt\n",
    "        if fold_change <= 1:\n",
    "            # if mutation in an anchor position, remove from df (Group3A)\n",
    "            if mutation_position in anchor_positions:\n",
    "                row_remove.append(row)\n",
    "        # mt does bind better than wt\n",
    "        elif fold_change > 1:\n",
    "            # if mutation is in anchor position\n",
    "            if mutation_position in anchor_positions:\n",
    "                # and wt score is also a good binder, remove from df (Group3B)\n",
    "                if wt_score <= 500:\n",
    "                    row_remove.append(row)\n",
    "df3 = df3.drop(df3.index[row_remove])\n",
    "print(len(df3))"
   ]
  }
 ]
}